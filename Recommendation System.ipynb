{
 "cells": [
  {
   "cell_type": "code",
   "execution_count": null,
   "metadata": {
    "colab": {
     "base_uri": "https://localhost:8080/"
    },
    "id": "d309Xywpm9mm",
    "outputId": "0edd4b98-775c-4dc8-b659-26cd218450e9"
   },
   "outputs": [],
   "source": []
  },
  {
   "cell_type": "code",
   "execution_count": 1,
   "metadata": {
    "colab": {
     "base_uri": "https://localhost:8080/"
    },
    "id": "N37UjINAnHAb",
    "outputId": "e2998d37-7b46-4afe-d92d-7e2ed8e26857"
   },
   "outputs": [
    {
     "data": {
      "text/plain": [
       "'import opendatasets as od\\nimport pandas\\n\\nod.download(\\n\\t\"https://www.kaggle.com/datasets/rishikeshkonapure/zomato\")\\n'"
      ]
     },
     "execution_count": 1,
     "metadata": {},
     "output_type": "execute_result"
    }
   ],
   "source": [
    "'''import opendatasets as od\n",
    "import pandas\n",
    "\n",
    "od.download(\n",
    "\t\"https://www.kaggle.com/datasets/rishikeshkonapure/zomato\")\n",
    "'''"
   ]
  },
  {
   "cell_type": "code",
   "execution_count": 2,
   "metadata": {
    "id": "oEET9RX4nNgD"
   },
   "outputs": [],
   "source": [
    "import pandas as pd"
   ]
  },
  {
   "cell_type": "code",
   "execution_count": 3,
   "metadata": {
    "id": "nBu8iqRKnjBU"
   },
   "outputs": [],
   "source": [
    "main_df=pd.read_csv(\"zomato.csv\")"
   ]
  },
  {
   "cell_type": "code",
   "execution_count": 4,
   "metadata": {
    "id": "Fh9yFt89noUT"
   },
   "outputs": [],
   "source": [
    "df1=main_df.head(20000)"
   ]
  },
  {
   "cell_type": "code",
   "execution_count": 5,
   "metadata": {
    "colab": {
     "base_uri": "https://localhost:8080/"
    },
    "id": "cr9z9qnBnuRT",
    "outputId": "73a931ee-24ee-4dec-d852-e0668208368b"
   },
   "outputs": [
    {
     "data": {
      "text/plain": [
       "(20000, 17)"
      ]
     },
     "execution_count": 5,
     "metadata": {},
     "output_type": "execute_result"
    }
   ],
   "source": [
    "df1.shape"
   ]
  },
  {
   "cell_type": "code",
   "execution_count": 6,
   "metadata": {
    "id": "3VuCxKtPnveT"
   },
   "outputs": [],
   "source": [
    "df1 = df1.rename(columns={'listed_in(type)': 'type'})\n",
    "df1 = df1.rename(columns={'listed_in(city)': 'city'})"
   ]
  },
  {
   "cell_type": "code",
   "execution_count": 7,
   "metadata": {
    "id": "vHuM-9wQn7Y0"
   },
   "outputs": [],
   "source": [
    "df1 = df1.rename(columns={'approx_cost(for two people)': 'cost'})\n",
    "df1.dropna(how='any', inplace=True)\n",
    "df1['cost']=df1['cost'].astype(str)\n",
    "df1['cost']=df1['cost'].apply(lambda x: x.replace(',',''))\n",
    "df1['cost']=df1['cost'].astype(float)"
   ]
  },
  {
   "cell_type": "code",
   "execution_count": 8,
   "metadata": {
    "colab": {
     "base_uri": "https://localhost:8080/"
    },
    "id": "8ylXjfJMoFWT",
    "outputId": "1aec2de8-b06b-44f5-8c31-7cf963803e1b"
   },
   "outputs": [
    {
     "data": {
      "text/plain": [
       "(8971, 17)"
      ]
     },
     "execution_count": 8,
     "metadata": {},
     "output_type": "execute_result"
    }
   ],
   "source": [
    "df1.shape"
   ]
  },
  {
   "cell_type": "code",
   "execution_count": 9,
   "metadata": {
    "id": "3u3PW80joJgT"
   },
   "outputs": [],
   "source": [
    "df1=df1[df1.rate!='NEW']\n",
    "df1=df1[df1.rate!='-'].reset_index(drop=True)\n",
    "remove_slash=lambda x: x.replace('/5','')if type(x)==str else x\n",
    "df1.rate=df1.rate.apply(remove_slash).str.strip().astype('float')"
   ]
  },
  {
   "cell_type": "code",
   "execution_count": 10,
   "metadata": {
    "colab": {
     "base_uri": "https://localhost:8080/"
    },
    "id": "rzSJAPJDoNNC",
    "outputId": "5164c0b7-f7fd-4634-88a2-4f4c90312b0f"
   },
   "outputs": [
    {
     "name": "stderr",
     "output_type": "stream",
     "text": [
      "C:\\Users\\Mayur Dalvi\\AppData\\Local\\Temp\\ipykernel_16112\\1442308228.py:2: FutureWarning: A value is trying to be set on a copy of a DataFrame or Series through chained assignment using an inplace method.\n",
      "The behavior will change in pandas 3.0. This inplace method will never work because the intermediate object on which we are setting values always behaves as a copy.\n",
      "\n",
      "For example, when doing 'df[col].method(value, inplace=True)', try using 'df.method({col: value}, inplace=True)' or df[col] = df[col].method(value) instead, to perform the operation inplace on the original object.\n",
      "\n",
      "\n",
      "  df1.online_order.replace(('Yes','No'),(True, False),inplace=True)\n",
      "C:\\Users\\Mayur Dalvi\\AppData\\Local\\Temp\\ipykernel_16112\\1442308228.py:2: FutureWarning: Downcasting behavior in `replace` is deprecated and will be removed in a future version. To retain the old behavior, explicitly call `result.infer_objects(copy=False)`. To opt-in to the future behavior, set `pd.set_option('future.no_silent_downcasting', True)`\n",
      "  df1.online_order.replace(('Yes','No'),(True, False),inplace=True)\n",
      "C:\\Users\\Mayur Dalvi\\AppData\\Local\\Temp\\ipykernel_16112\\1442308228.py:3: FutureWarning: A value is trying to be set on a copy of a DataFrame or Series through chained assignment using an inplace method.\n",
      "The behavior will change in pandas 3.0. This inplace method will never work because the intermediate object on which we are setting values always behaves as a copy.\n",
      "\n",
      "For example, when doing 'df[col].method(value, inplace=True)', try using 'df.method({col: value}, inplace=True)' or df[col] = df[col].method(value) instead, to perform the operation inplace on the original object.\n",
      "\n",
      "\n",
      "  df1.book_table.replace(('Yes','No'),(True, False),inplace=True)\n",
      "C:\\Users\\Mayur Dalvi\\AppData\\Local\\Temp\\ipykernel_16112\\1442308228.py:3: FutureWarning: Downcasting behavior in `replace` is deprecated and will be removed in a future version. To retain the old behavior, explicitly call `result.infer_objects(copy=False)`. To opt-in to the future behavior, set `pd.set_option('future.no_silent_downcasting', True)`\n",
      "  df1.book_table.replace(('Yes','No'),(True, False),inplace=True)\n"
     ]
    }
   ],
   "source": [
    "df1.name = df1.name.apply(lambda x:x.title())\n",
    "df1.online_order.replace(('Yes','No'),(True, False),inplace=True)\n",
    "df1.book_table.replace(('Yes','No'),(True, False),inplace=True)"
   ]
  },
  {
   "cell_type": "code",
   "execution_count": 11,
   "metadata": {
    "colab": {
     "base_uri": "https://localhost:8080/"
    },
    "id": "UEgXTYuwoPdD",
    "outputId": "1ffc2f4c-840d-445c-afa6-532bf8e35f3f"
   },
   "outputs": [
    {
     "data": {
      "text/plain": [
       "2431"
      ]
     },
     "execution_count": 11,
     "metadata": {},
     "output_type": "execute_result"
    }
   ],
   "source": [
    "rest_co = df1['name'].nunique()\n",
    "rest_co"
   ]
  },
  {
   "cell_type": "code",
   "execution_count": 12,
   "metadata": {
    "id": "JWofYeMeoUsT"
   },
   "outputs": [],
   "source": [
    "df1['Mean Rating'] = 0"
   ]
  },
  {
   "cell_type": "code",
   "execution_count": 13,
   "metadata": {
    "id": "GIr8vgOioXEz"
   },
   "outputs": [],
   "source": [
    "resturants = list(df1['name'].unique())\n"
   ]
  },
  {
   "cell_type": "code",
   "execution_count": 14,
   "metadata": {
    "colab": {
     "base_uri": "https://localhost:8080/"
    },
    "id": "tkoDu-ejoZOD",
    "outputId": "39a85817-112e-4635-c643-3e463b0a90b0"
   },
   "outputs": [
    {
     "name": "stdout",
     "output_type": "stream",
     "text": [
      "Collecting textblob\n",
      "  Downloading textblob-0.18.0.post0-py3-none-any.whl.metadata (4.5 kB)\n",
      "Requirement already satisfied: nltk>=3.8 in c:\\users\\mayur dalvi\\appdata\\local\\programs\\python\\python312\\lib\\site-packages (from textblob) (3.8.1)\n",
      "Requirement already satisfied: click in c:\\users\\mayur dalvi\\appdata\\local\\programs\\python\\python312\\lib\\site-packages (from nltk>=3.8->textblob) (8.1.7)\n",
      "Requirement already satisfied: joblib in c:\\users\\mayur dalvi\\appdata\\local\\programs\\python\\python312\\lib\\site-packages (from nltk>=3.8->textblob) (1.4.2)\n",
      "Requirement already satisfied: regex>=2021.8.3 in c:\\users\\mayur dalvi\\appdata\\local\\programs\\python\\python312\\lib\\site-packages (from nltk>=3.8->textblob) (2024.7.24)\n",
      "Requirement already satisfied: tqdm in c:\\users\\mayur dalvi\\appdata\\local\\programs\\python\\python312\\lib\\site-packages (from nltk>=3.8->textblob) (4.66.5)\n",
      "Requirement already satisfied: colorama in c:\\users\\mayur dalvi\\appdata\\roaming\\python\\python312\\site-packages (from click->nltk>=3.8->textblob) (0.4.6)\n",
      "Downloading textblob-0.18.0.post0-py3-none-any.whl (626 kB)\n",
      "   ---------------------------------------- 0.0/626.3 kB ? eta -:--:--\n",
      "   ---------------------------------------- 626.3/626.3 kB 4.7 MB/s eta 0:00:00\n",
      "Installing collected packages: textblob\n",
      "Successfully installed textblob-0.18.0.post0\n"
     ]
    },
    {
     "name": "stderr",
     "output_type": "stream",
     "text": [
      "WARNING: Ignoring invalid distribution ~atplotlib (C:\\Users\\Mayur Dalvi\\AppData\\Local\\Programs\\Python\\Python312\\Lib\\site-packages)\n",
      "WARNING: Ignoring invalid distribution ~otebook (C:\\Users\\Mayur Dalvi\\AppData\\Local\\Programs\\Python\\Python312\\Lib\\site-packages)\n",
      "WARNING: Ignoring invalid distribution ~atplotlib (C:\\Users\\Mayur Dalvi\\AppData\\Local\\Programs\\Python\\Python312\\Lib\\site-packages)\n",
      "WARNING: Ignoring invalid distribution ~otebook (C:\\Users\\Mayur Dalvi\\AppData\\Local\\Programs\\Python\\Python312\\Lib\\site-packages)\n",
      "WARNING: Ignoring invalid distribution ~atplotlib (C:\\Users\\Mayur Dalvi\\AppData\\Local\\Programs\\Python\\Python312\\Lib\\site-packages)\n",
      "WARNING: Ignoring invalid distribution ~otebook (C:\\Users\\Mayur Dalvi\\AppData\\Local\\Programs\\Python\\Python312\\Lib\\site-packages)\n"
     ]
    },
    {
     "name": "stdout",
     "output_type": "stream",
     "text": [
      "Requirement already satisfied: nltk in c:\\users\\mayur dalvi\\appdata\\local\\programs\\python\\python312\\lib\\site-packages (3.8.1)\n",
      "Requirement already satisfied: click in c:\\users\\mayur dalvi\\appdata\\local\\programs\\python\\python312\\lib\\site-packages (from nltk) (8.1.7)\n",
      "Requirement already satisfied: joblib in c:\\users\\mayur dalvi\\appdata\\local\\programs\\python\\python312\\lib\\site-packages (from nltk) (1.4.2)\n",
      "Requirement already satisfied: regex>=2021.8.3 in c:\\users\\mayur dalvi\\appdata\\local\\programs\\python\\python312\\lib\\site-packages (from nltk) (2024.7.24)\n",
      "Requirement already satisfied: tqdm in c:\\users\\mayur dalvi\\appdata\\local\\programs\\python\\python312\\lib\\site-packages (from nltk) (4.66.5)\n",
      "Requirement already satisfied: colorama in c:\\users\\mayur dalvi\\appdata\\roaming\\python\\python312\\site-packages (from click->nltk) (0.4.6)\n"
     ]
    },
    {
     "name": "stderr",
     "output_type": "stream",
     "text": [
      "WARNING: Ignoring invalid distribution ~atplotlib (C:\\Users\\Mayur Dalvi\\AppData\\Local\\Programs\\Python\\Python312\\Lib\\site-packages)\n",
      "WARNING: Ignoring invalid distribution ~otebook (C:\\Users\\Mayur Dalvi\\AppData\\Local\\Programs\\Python\\Python312\\Lib\\site-packages)\n",
      "WARNING: Ignoring invalid distribution ~atplotlib (C:\\Users\\Mayur Dalvi\\AppData\\Local\\Programs\\Python\\Python312\\Lib\\site-packages)\n",
      "WARNING: Ignoring invalid distribution ~otebook (C:\\Users\\Mayur Dalvi\\AppData\\Local\\Programs\\Python\\Python312\\Lib\\site-packages)\n",
      "WARNING: Ignoring invalid distribution ~atplotlib (C:\\Users\\Mayur Dalvi\\AppData\\Local\\Programs\\Python\\Python312\\Lib\\site-packages)\n",
      "WARNING: Ignoring invalid distribution ~otebook (C:\\Users\\Mayur Dalvi\\AppData\\Local\\Programs\\Python\\Python312\\Lib\\site-packages)\n",
      "[nltk_data] Downloading package stopwords to C:\\Users\\Mayur\n",
      "[nltk_data]     Dalvi\\AppData\\Roaming\\nltk_data...\n",
      "[nltk_data]   Package stopwords is already up-to-date!\n"
     ]
    },
    {
     "data": {
      "text/plain": [
       "True"
      ]
     },
     "execution_count": 14,
     "metadata": {},
     "output_type": "execute_result"
    }
   ],
   "source": [
    "!pip install textblob\n",
    "from textblob import TextBlob\n",
    "import re\n",
    "!pip install nltk\n",
    "import nltk\n",
    "from nltk.corpus import stopwords\n",
    "nltk.download('stopwords')\n"
   ]
  },
  {
   "cell_type": "code",
   "execution_count": 15,
   "metadata": {
    "id": "gWMjuvKpobQC"
   },
   "outputs": [],
   "source": [
    "from nltk.tokenize import word_tokenize"
   ]
  },
  {
   "cell_type": "code",
   "execution_count": 16,
   "metadata": {
    "id": "qfRlBv7Qoj_C"
   },
   "outputs": [],
   "source": [
    "df1['reviews_list'] = df1['reviews_list'].str.lower()"
   ]
  },
  {
   "cell_type": "code",
   "execution_count": 17,
   "metadata": {
    "id": "OMKA9Yohomjj"
   },
   "outputs": [],
   "source": [
    "STOPWORD = set(stopwords.words('english'))\n",
    "def remove_stopwords(text):\n",
    "    return ' '.join([word for word in str(text).split() if word not in STOPWORD])"
   ]
  },
  {
   "cell_type": "code",
   "execution_count": 18,
   "metadata": {
    "id": "YyJEomf-ooAy"
   },
   "outputs": [],
   "source": [
    "df1['reviews_list'] = df1['reviews_list'].apply(lambda text: remove_stopwords(text))"
   ]
  },
  {
   "cell_type": "code",
   "execution_count": 19,
   "metadata": {
    "id": "-ZYQcCUjopsy"
   },
   "outputs": [],
   "source": [
    "def remove_urls(text):\n",
    "    url_pattern = re.compile(r'https?://\\S+|www\\.\\S+')\n",
    "    return url_pattern.sub(r'', text)"
   ]
  },
  {
   "cell_type": "code",
   "execution_count": 20,
   "metadata": {
    "id": "kBXHzrLIorbS"
   },
   "outputs": [],
   "source": [
    "df1['reviews_list'] = df1['reviews_list'].apply(lambda text: remove_urls(text))"
   ]
  },
  {
   "cell_type": "code",
   "execution_count": 21,
   "metadata": {
    "id": "6KeIgYAQotH1"
   },
   "outputs": [],
   "source": [
    "import re"
   ]
  },
  {
   "cell_type": "code",
   "execution_count": 22,
   "metadata": {
    "colab": {
     "base_uri": "https://localhost:8080/",
     "height": 363
    },
    "id": "KJIN2Balouqy",
    "outputId": "4367e790-4eb8-48be-dcde-37c2a6aea45f"
   },
   "outputs": [
    {
     "data": {
      "text/html": [
       "<div>\n",
       "<style scoped>\n",
       "    .dataframe tbody tr th:only-of-type {\n",
       "        vertical-align: middle;\n",
       "    }\n",
       "\n",
       "    .dataframe tbody tr th {\n",
       "        vertical-align: top;\n",
       "    }\n",
       "\n",
       "    .dataframe thead th {\n",
       "        text-align: right;\n",
       "    }\n",
       "</style>\n",
       "<table border=\"1\" class=\"dataframe\">\n",
       "  <thead>\n",
       "    <tr style=\"text-align: right;\">\n",
       "      <th></th>\n",
       "      <th>reviews_list</th>\n",
       "      <th>cuisines</th>\n",
       "    </tr>\n",
       "  </thead>\n",
       "  <tbody>\n",
       "    <tr>\n",
       "      <th>6519</th>\n",
       "      <td>[('rated 3.0', \"rated\\n good seating area chil...</td>\n",
       "      <td>American, Continental, Steak, Salad</td>\n",
       "    </tr>\n",
       "    <tr>\n",
       "      <th>2288</th>\n",
       "      <td>[('rated 2.0', 'rated\\n two people ordered pan...</td>\n",
       "      <td>North Indian, Fast Food, Street Food</td>\n",
       "    </tr>\n",
       "    <tr>\n",
       "      <th>4893</th>\n",
       "      <td>[('rated 3.0', \"rated\\n ambience 3/5\\nfood 3/5...</td>\n",
       "      <td>Fast Food</td>\n",
       "    </tr>\n",
       "    <tr>\n",
       "      <th>4168</th>\n",
       "      <td>[('rated 4.0', 'rated\\n nice place visited pla...</td>\n",
       "      <td>Biryani, Chinese, North Indian</td>\n",
       "    </tr>\n",
       "    <tr>\n",
       "      <th>1824</th>\n",
       "      <td>[('rated 3.0', 'rated\\n place locals like ? po...</td>\n",
       "      <td>North Indian, South Indian, Continental</td>\n",
       "    </tr>\n",
       "    <tr>\n",
       "      <th>7654</th>\n",
       "      <td>[('rated 3.0', 'rated\\n small neat little cafe...</td>\n",
       "      <td>Pizza, Italian, Cafe, Burger, Finger Food, Fas...</td>\n",
       "    </tr>\n",
       "    <tr>\n",
       "      <th>6923</th>\n",
       "      <td>[('rated 4.0', 'rated\\n service good\\n\\nplace ...</td>\n",
       "      <td>Burger, Fast Food, Beverages</td>\n",
       "    </tr>\n",
       "    <tr>\n",
       "      <th>828</th>\n",
       "      <td>[('rated 5.0', 'rated\\n restaurant nearby kaly...</td>\n",
       "      <td>North Indian, Chinese, Biryani, Hyderabadi</td>\n",
       "    </tr>\n",
       "    <tr>\n",
       "      <th>6776</th>\n",
       "      <td>[('rated 4.0', \"rated\\n really good service. p...</td>\n",
       "      <td>Finger Food</td>\n",
       "    </tr>\n",
       "    <tr>\n",
       "      <th>3352</th>\n",
       "      <td>[('rated 4.0', 'rated\\n brilliant place, court...</td>\n",
       "      <td>Bakery, Cafe</td>\n",
       "    </tr>\n",
       "  </tbody>\n",
       "</table>\n",
       "</div>"
      ],
      "text/plain": [
       "                                           reviews_list  \\\n",
       "6519  [('rated 3.0', \"rated\\n good seating area chil...   \n",
       "2288  [('rated 2.0', 'rated\\n two people ordered pan...   \n",
       "4893  [('rated 3.0', \"rated\\n ambience 3/5\\nfood 3/5...   \n",
       "4168  [('rated 4.0', 'rated\\n nice place visited pla...   \n",
       "1824  [('rated 3.0', 'rated\\n place locals like ? po...   \n",
       "7654  [('rated 3.0', 'rated\\n small neat little cafe...   \n",
       "6923  [('rated 4.0', 'rated\\n service good\\n\\nplace ...   \n",
       "828   [('rated 5.0', 'rated\\n restaurant nearby kaly...   \n",
       "6776  [('rated 4.0', \"rated\\n really good service. p...   \n",
       "3352  [('rated 4.0', 'rated\\n brilliant place, court...   \n",
       "\n",
       "                                               cuisines  \n",
       "6519                American, Continental, Steak, Salad  \n",
       "2288               North Indian, Fast Food, Street Food  \n",
       "4893                                          Fast Food  \n",
       "4168                     Biryani, Chinese, North Indian  \n",
       "1824            North Indian, South Indian, Continental  \n",
       "7654  Pizza, Italian, Cafe, Burger, Finger Food, Fas...  \n",
       "6923                       Burger, Fast Food, Beverages  \n",
       "828          North Indian, Chinese, Biryani, Hyderabadi  \n",
       "6776                                        Finger Food  \n",
       "3352                                       Bakery, Cafe  "
      ]
     },
     "execution_count": 22,
     "metadata": {},
     "output_type": "execute_result"
    }
   ],
   "source": [
    "df1[['reviews_list', 'cuisines']].sample(10)"
   ]
  },
  {
   "cell_type": "code",
   "execution_count": 23,
   "metadata": {
    "id": "BuLCshusov_C"
   },
   "outputs": [],
   "source": [
    "def remove_rated(text):\n",
    "  text = re.sub(r'rated\\s*\\d+\\.?\\d*', '', str(text))\n",
    "  return text"
   ]
  },
  {
   "cell_type": "code",
   "execution_count": 24,
   "metadata": {
    "id": "BrxWcsRgoxhz"
   },
   "outputs": [],
   "source": [
    "df1['reviews_list'] = df1['reviews_list'].apply(remove_rated)"
   ]
  },
  {
   "cell_type": "code",
   "execution_count": 25,
   "metadata": {
    "colab": {
     "base_uri": "https://localhost:8080/",
     "height": 363
    },
    "id": "Ejr2r8uGozBC",
    "outputId": "28745ce9-1f67-4430-cc35-8e77c120b5f8"
   },
   "outputs": [
    {
     "data": {
      "text/html": [
       "<div>\n",
       "<style scoped>\n",
       "    .dataframe tbody tr th:only-of-type {\n",
       "        vertical-align: middle;\n",
       "    }\n",
       "\n",
       "    .dataframe tbody tr th {\n",
       "        vertical-align: top;\n",
       "    }\n",
       "\n",
       "    .dataframe thead th {\n",
       "        text-align: right;\n",
       "    }\n",
       "</style>\n",
       "<table border=\"1\" class=\"dataframe\">\n",
       "  <thead>\n",
       "    <tr style=\"text-align: right;\">\n",
       "      <th></th>\n",
       "      <th>reviews_list</th>\n",
       "      <th>cuisines</th>\n",
       "    </tr>\n",
       "  </thead>\n",
       "  <tbody>\n",
       "    <tr>\n",
       "      <th>7999</th>\n",
       "      <td>[('', \"rated\\n starving since afternoon scouti...</td>\n",
       "      <td>Fast Food, Chinese</td>\n",
       "    </tr>\n",
       "    <tr>\n",
       "      <th>8506</th>\n",
       "      <td>[('', 'rated\\n came dinner. place looks quite ...</td>\n",
       "      <td>North Indian, Chinese</td>\n",
       "    </tr>\n",
       "    <tr>\n",
       "      <th>2532</th>\n",
       "      <td>[('', \"rated\\n love place even though small pl...</td>\n",
       "      <td>Chinese, Thai, Momos</td>\n",
       "    </tr>\n",
       "    <tr>\n",
       "      <th>7722</th>\n",
       "      <td>[('', 'rated\\n ordered poha here.i regular cus...</td>\n",
       "      <td>Fast Food</td>\n",
       "    </tr>\n",
       "    <tr>\n",
       "      <th>8575</th>\n",
       "      <td>[('', \"rated\\n staff cares cricket matches pla...</td>\n",
       "      <td>North Indian, Continental, Italian</td>\n",
       "    </tr>\n",
       "    <tr>\n",
       "      <th>2160</th>\n",
       "      <td>[('', 'rated\\n placed online order veg steamed...</td>\n",
       "      <td>Chinese, Momos</td>\n",
       "    </tr>\n",
       "    <tr>\n",
       "      <th>2420</th>\n",
       "      <td>[('', \"rated\\n undoubtedly say best steak plac...</td>\n",
       "      <td>North Eastern, Asian, Naga, Steak, Momos</td>\n",
       "    </tr>\n",
       "    <tr>\n",
       "      <th>8129</th>\n",
       "      <td>[('', 'rated\\n wrost food experience. russian ...</td>\n",
       "      <td>Russian, Continental, North Indian</td>\n",
       "    </tr>\n",
       "    <tr>\n",
       "      <th>2483</th>\n",
       "      <td>[('', 'rated\\n best rabri town.l, long remembe...</td>\n",
       "      <td>Fast Food, Mithai</td>\n",
       "    </tr>\n",
       "    <tr>\n",
       "      <th>3177</th>\n",
       "      <td>[('', \"rated\\n love place drinks ? like place ...</td>\n",
       "      <td>Desserts, Beverages, Ice Cream</td>\n",
       "    </tr>\n",
       "  </tbody>\n",
       "</table>\n",
       "</div>"
      ],
      "text/plain": [
       "                                           reviews_list  \\\n",
       "7999  [('', \"rated\\n starving since afternoon scouti...   \n",
       "8506  [('', 'rated\\n came dinner. place looks quite ...   \n",
       "2532  [('', \"rated\\n love place even though small pl...   \n",
       "7722  [('', 'rated\\n ordered poha here.i regular cus...   \n",
       "8575  [('', \"rated\\n staff cares cricket matches pla...   \n",
       "2160  [('', 'rated\\n placed online order veg steamed...   \n",
       "2420  [('', \"rated\\n undoubtedly say best steak plac...   \n",
       "8129  [('', 'rated\\n wrost food experience. russian ...   \n",
       "2483  [('', 'rated\\n best rabri town.l, long remembe...   \n",
       "3177  [('', \"rated\\n love place drinks ? like place ...   \n",
       "\n",
       "                                      cuisines  \n",
       "7999                        Fast Food, Chinese  \n",
       "8506                     North Indian, Chinese  \n",
       "2532                      Chinese, Thai, Momos  \n",
       "7722                                 Fast Food  \n",
       "8575        North Indian, Continental, Italian  \n",
       "2160                            Chinese, Momos  \n",
       "2420  North Eastern, Asian, Naga, Steak, Momos  \n",
       "8129        Russian, Continental, North Indian  \n",
       "2483                         Fast Food, Mithai  \n",
       "3177            Desserts, Beverages, Ice Cream  "
      ]
     },
     "execution_count": 25,
     "metadata": {},
     "output_type": "execute_result"
    }
   ],
   "source": [
    "df1[['reviews_list', 'cuisines']].sample(10)"
   ]
  },
  {
   "cell_type": "code",
   "execution_count": 26,
   "metadata": {
    "id": "4aC-POmKo0SS"
   },
   "outputs": [],
   "source": [
    "def remove_ratedn(text):\n",
    "  text = re.sub(r'ratedn', '', str(text))\n",
    "  return text"
   ]
  },
  {
   "cell_type": "code",
   "execution_count": 27,
   "metadata": {
    "id": "fKeVG4ZBo4HS"
   },
   "outputs": [],
   "source": [
    "df1['reviews_list'] = df1['reviews_list'].apply(remove_ratedn)"
   ]
  },
  {
   "cell_type": "code",
   "execution_count": 28,
   "metadata": {
    "colab": {
     "base_uri": "https://localhost:8080/",
     "height": 363
    },
    "id": "SbZuA1cGo6Ni",
    "outputId": "00d8029b-3be0-47f5-f3eb-82989d597a24"
   },
   "outputs": [
    {
     "data": {
      "text/html": [
       "<div>\n",
       "<style scoped>\n",
       "    .dataframe tbody tr th:only-of-type {\n",
       "        vertical-align: middle;\n",
       "    }\n",
       "\n",
       "    .dataframe tbody tr th {\n",
       "        vertical-align: top;\n",
       "    }\n",
       "\n",
       "    .dataframe thead th {\n",
       "        text-align: right;\n",
       "    }\n",
       "</style>\n",
       "<table border=\"1\" class=\"dataframe\">\n",
       "  <thead>\n",
       "    <tr style=\"text-align: right;\">\n",
       "      <th></th>\n",
       "      <th>reviews_list</th>\n",
       "      <th>cuisines</th>\n",
       "    </tr>\n",
       "  </thead>\n",
       "  <tbody>\n",
       "    <tr>\n",
       "      <th>7182</th>\n",
       "      <td>[('', \"rated\\n food kind ok, like veg sagar re...</td>\n",
       "      <td>South Indian, North Indian, Chinese, Beverages</td>\n",
       "    </tr>\n",
       "    <tr>\n",
       "      <th>6366</th>\n",
       "      <td>[('', 'rated\\n mutton curry (mostly bone grist...</td>\n",
       "      <td>Biryani, Kerala, Seafood, South Indian</td>\n",
       "    </tr>\n",
       "    <tr>\n",
       "      <th>7719</th>\n",
       "      <td>[('', 'rated\\n ordered sub quite times. delive...</td>\n",
       "      <td>Salad, Fast Food</td>\n",
       "    </tr>\n",
       "    <tr>\n",
       "      <th>2770</th>\n",
       "      <td>[('', 'rated\\n mutton curry (mostly bone grist...</td>\n",
       "      <td>Biryani, Kerala, Seafood, South Indian</td>\n",
       "    </tr>\n",
       "    <tr>\n",
       "      <th>1495</th>\n",
       "      <td>[('', \"rated\\n stay away. dingy dim lit entran...</td>\n",
       "      <td>Chinese, Thai, Momos</td>\n",
       "    </tr>\n",
       "    <tr>\n",
       "      <th>6602</th>\n",
       "      <td>[('', 'rated\\n shopping stuff nearby came acro...</td>\n",
       "      <td>North Indian, Chinese</td>\n",
       "    </tr>\n",
       "    <tr>\n",
       "      <th>2972</th>\n",
       "      <td>[('', 'rated\\n restaurant suggested one close ...</td>\n",
       "      <td>North Indian, Arabian, Mughlai, Biryani, Seafo...</td>\n",
       "    </tr>\n",
       "    <tr>\n",
       "      <th>6781</th>\n",
       "      <td>[('', 'rated\\n order swiggy pop rs99 delicious...</td>\n",
       "      <td>Chinese, Thai</td>\n",
       "    </tr>\n",
       "    <tr>\n",
       "      <th>6473</th>\n",
       "      <td>[('', 'rated\\n cozy little place nice ambience...</td>\n",
       "      <td>Cafe, Desserts</td>\n",
       "    </tr>\n",
       "    <tr>\n",
       "      <th>2265</th>\n",
       "      <td>[]</td>\n",
       "      <td>North Indian, Chinese, Mughlai, Kebab</td>\n",
       "    </tr>\n",
       "  </tbody>\n",
       "</table>\n",
       "</div>"
      ],
      "text/plain": [
       "                                           reviews_list  \\\n",
       "7182  [('', \"rated\\n food kind ok, like veg sagar re...   \n",
       "6366  [('', 'rated\\n mutton curry (mostly bone grist...   \n",
       "7719  [('', 'rated\\n ordered sub quite times. delive...   \n",
       "2770  [('', 'rated\\n mutton curry (mostly bone grist...   \n",
       "1495  [('', \"rated\\n stay away. dingy dim lit entran...   \n",
       "6602  [('', 'rated\\n shopping stuff nearby came acro...   \n",
       "2972  [('', 'rated\\n restaurant suggested one close ...   \n",
       "6781  [('', 'rated\\n order swiggy pop rs99 delicious...   \n",
       "6473  [('', 'rated\\n cozy little place nice ambience...   \n",
       "2265                                                 []   \n",
       "\n",
       "                                               cuisines  \n",
       "7182     South Indian, North Indian, Chinese, Beverages  \n",
       "6366             Biryani, Kerala, Seafood, South Indian  \n",
       "7719                                   Salad, Fast Food  \n",
       "2770             Biryani, Kerala, Seafood, South Indian  \n",
       "1495                               Chinese, Thai, Momos  \n",
       "6602                              North Indian, Chinese  \n",
       "2972  North Indian, Arabian, Mughlai, Biryani, Seafo...  \n",
       "6781                                      Chinese, Thai  \n",
       "6473                                     Cafe, Desserts  \n",
       "2265              North Indian, Chinese, Mughlai, Kebab  "
      ]
     },
     "execution_count": 28,
     "metadata": {},
     "output_type": "execute_result"
    }
   ],
   "source": [
    "df1[['reviews_list', 'cuisines']].sample(10)"
   ]
  },
  {
   "cell_type": "code",
   "execution_count": 29,
   "metadata": {
    "id": "U_AUh383o79y"
   },
   "outputs": [],
   "source": [
    "resturant_name = list(df1['name'].unique())\n",
    "def get_top_words(column, top_nu_of_words, nu_of_word):\n",
    "    vec = CountVectorizer(ngram_range= nu_of_word, stop_words='english')\n",
    "    bag_of_words = vec.fit_transform(column)\n",
    "    sum_words = bag_of_words.sum(axis=0)\n",
    "    words_freq = [(word, sum_words[0, idx]) for word, idx in vec.vocabulary_.items()]\n",
    "    words_freq =sorted(words_freq, key = lambda x: x[1], reverse=True)\n",
    "    return words_freq[:top_nu_of_words]"
   ]
  },
  {
   "cell_type": "code",
   "execution_count": 30,
   "metadata": {
    "id": "s4gLDHFno9Uj"
   },
   "outputs": [],
   "source": [
    "df1=df1.drop(['address','rest_type','type','menu_item','votes'],axis=1)"
   ]
  },
  {
   "cell_type": "code",
   "execution_count": 31,
   "metadata": {
    "id": "YLTAsdxNo-7C"
   },
   "outputs": [],
   "source": [
    "df_percent=df1.sample(frac=0.5)"
   ]
  },
  {
   "cell_type": "code",
   "execution_count": 32,
   "metadata": {
    "colab": {
     "base_uri": "https://localhost:8080/"
    },
    "id": "kIaOjSlfpAiF",
    "outputId": "137805f7-04a0-4e39-8c72-6cc723ec3e55"
   },
   "outputs": [
    {
     "data": {
      "text/plain": [
       "(4456, 13)"
      ]
     },
     "execution_count": 32,
     "metadata": {},
     "output_type": "execute_result"
    }
   ],
   "source": [
    "df_percent.shape"
   ]
  },
  {
   "cell_type": "code",
   "execution_count": 33,
   "metadata": {
    "id": "KsICYcI4pCfz"
   },
   "outputs": [],
   "source": [
    "from sklearn.feature_extraction.text import TfidfVectorizer\n",
    "from nltk.tokenize import word_tokenize"
   ]
  },
  {
   "cell_type": "code",
   "execution_count": 34,
   "metadata": {
    "colab": {
     "base_uri": "https://localhost:8080/"
    },
    "id": "l4z4ME9RpF7i",
    "outputId": "e4ebc335-f0ab-490f-d93d-a1f749d6a866"
   },
   "outputs": [
    {
     "name": "stderr",
     "output_type": "stream",
     "text": [
      "[nltk_data] Downloading package punkt to C:\\Users\\Mayur\n",
      "[nltk_data]     Dalvi\\AppData\\Roaming\\nltk_data...\n",
      "[nltk_data]   Package punkt is already up-to-date!\n"
     ]
    },
    {
     "data": {
      "text/plain": [
       "True"
      ]
     },
     "execution_count": 34,
     "metadata": {},
     "output_type": "execute_result"
    }
   ],
   "source": [
    "nltk.download('punkt')\n"
   ]
  },
  {
   "cell_type": "code",
   "execution_count": 35,
   "metadata": {
    "id": "-vZXzKdYpRQT"
   },
   "outputs": [],
   "source": [
    "df_percent.set_index('name', inplace=True)\n",
    "indices = pd.Series(df_percent.index)"
   ]
  },
  {
   "cell_type": "code",
   "execution_count": 36,
   "metadata": {
    "id": "x3nDHnIEpTnV"
   },
   "outputs": [],
   "source": [
    "from sklearn.feature_extraction.text import TfidfVectorizer\n",
    "from nltk.tokenize import word_tokenize\n",
    "from sklearn.metrics.pairwise import linear_kernel # Import linear_kernel\n",
    "\n",
    "tfidf = TfidfVectorizer(analyzer='word', ngram_range=(1, 2), min_df=1, stop_words='english')\n",
    "tfidf_matrix = tfidf.fit_transform(df_percent['reviews_list'])\n",
    "\n",
    "cosine_similarities = linear_kernel(tfidf_matrix, tfidf_matrix)"
   ]
  },
  {
   "cell_type": "code",
   "execution_count": 37,
   "metadata": {
    "colab": {
     "base_uri": "https://localhost:8080/"
    },
    "id": "IITL0zKrpVNC",
    "outputId": "dc9ff488-defc-488c-bffc-e3d9ebac3801"
   },
   "outputs": [
    {
     "data": {
      "text/plain": [
       "array([[1.00000000e+00, 5.24950485e-02, 7.97351628e-03, ...,\n",
       "        2.55895371e-02, 6.02589411e-02, 1.88176057e-02],\n",
       "       [5.24950485e-02, 1.00000000e+00, 6.37008689e-03, ...,\n",
       "        6.32614076e-02, 2.58276408e-02, 5.24066207e-02],\n",
       "       [7.97351628e-03, 6.37008689e-03, 1.00000000e+00, ...,\n",
       "        1.46325598e-03, 8.01290338e-03, 6.69652708e-04],\n",
       "       ...,\n",
       "       [2.55895371e-02, 6.32614076e-02, 1.46325598e-03, ...,\n",
       "        1.00000000e+00, 7.84060336e-03, 1.21059643e-01],\n",
       "       [6.02589411e-02, 2.58276408e-02, 8.01290338e-03, ...,\n",
       "        7.84060336e-03, 1.00000000e+00, 7.15081612e-03],\n",
       "       [1.88176057e-02, 5.24066207e-02, 6.69652708e-04, ...,\n",
       "        1.21059643e-01, 7.15081612e-03, 1.00000000e+00]])"
      ]
     },
     "execution_count": 37,
     "metadata": {},
     "output_type": "execute_result"
    }
   ],
   "source": [
    "cosine_similarities"
   ]
  },
  {
   "cell_type": "code",
   "execution_count": 38,
   "metadata": {
    "id": "x0294F5epmVU"
   },
   "outputs": [],
   "source": [
    "def recommend(name, cosine_similarities=cosine_similarities):\n",
    "    recommend_restaurant = []\n",
    "\n",
    "    idx = indices[indices == name].index[0]\n",
    "\n",
    "    score_series = pd.Series(cosine_similarities[idx]).sort_values(ascending=False)\n",
    "    top30_indexes = list(score_series.iloc[0:31].index)\n",
    "\n",
    "    for each in top30_indexes:\n",
    "        recommend_restaurant.append(list(df_percent.index)[each])\n",
    "\n",
    "    # Instead of appending, create a list to store DataFrames\n",
    "    df_list = []\n",
    "\n",
    "    for each in recommend_restaurant:\n",
    "        # Append the DataFrame to the list\n",
    "        df_list.append(pd.DataFrame(df_percent[['cuisines', 'Mean Rating', 'cost']][df_percent.index == each].sample()))\n",
    "\n",
    "    # Concatenate all DataFrames in the list into a single DataFrame\n",
    "    df_new = pd.concat(df_list, ignore_index=True)\n",
    "\n",
    "    df_new = df_new.drop_duplicates(subset=['cuisines', 'Mean Rating', 'cost'], keep=False)\n",
    "    df_new = df_new.sort_values(by='Mean Rating', ascending=False).head(10)\n",
    "\n",
    "    print('TOP %s RESTAURANTS LIKE %s WITH SIMILAR REVIEWS: ' % (str(len(df_new)), name))\n",
    "\n",
    "    return df_new"
   ]
  },
  {
   "cell_type": "code",
   "execution_count": 39,
   "metadata": {
    "colab": {
     "base_uri": "https://localhost:8080/",
     "height": 349
    },
    "id": "J5TrzXBTpxQT",
    "outputId": "40fe4328-6e43-4e7b-efa4-130dfc1b2843"
   },
   "outputs": [
    {
     "name": "stdout",
     "output_type": "stream",
     "text": [
      "TOP 7 RESTAURANTS LIKE Pai Vihar WITH SIMILAR REVIEWS: \n"
     ]
    },
    {
     "data": {
      "text/html": [
       "<div>\n",
       "<style scoped>\n",
       "    .dataframe tbody tr th:only-of-type {\n",
       "        vertical-align: middle;\n",
       "    }\n",
       "\n",
       "    .dataframe tbody tr th {\n",
       "        vertical-align: top;\n",
       "    }\n",
       "\n",
       "    .dataframe thead th {\n",
       "        text-align: right;\n",
       "    }\n",
       "</style>\n",
       "<table border=\"1\" class=\"dataframe\">\n",
       "  <thead>\n",
       "    <tr style=\"text-align: right;\">\n",
       "      <th></th>\n",
       "      <th>cuisines</th>\n",
       "      <th>Mean Rating</th>\n",
       "      <th>cost</th>\n",
       "    </tr>\n",
       "  </thead>\n",
       "  <tbody>\n",
       "    <tr>\n",
       "      <th>8</th>\n",
       "      <td>Chinese, North Indian, South Indian</td>\n",
       "      <td>0</td>\n",
       "      <td>250.0</td>\n",
       "    </tr>\n",
       "    <tr>\n",
       "      <th>11</th>\n",
       "      <td>South Indian, North Indian, Chinese</td>\n",
       "      <td>0</td>\n",
       "      <td>300.0</td>\n",
       "    </tr>\n",
       "    <tr>\n",
       "      <th>17</th>\n",
       "      <td>South Indian</td>\n",
       "      <td>0</td>\n",
       "      <td>150.0</td>\n",
       "    </tr>\n",
       "    <tr>\n",
       "      <th>19</th>\n",
       "      <td>Fast Food, North Indian, Chinese, Mughlai, Rolls</td>\n",
       "      <td>0</td>\n",
       "      <td>400.0</td>\n",
       "    </tr>\n",
       "    <tr>\n",
       "      <th>20</th>\n",
       "      <td>North Indian, Chinese, Biryani</td>\n",
       "      <td>0</td>\n",
       "      <td>550.0</td>\n",
       "    </tr>\n",
       "    <tr>\n",
       "      <th>28</th>\n",
       "      <td>Continental, North Indian</td>\n",
       "      <td>0</td>\n",
       "      <td>1300.0</td>\n",
       "    </tr>\n",
       "    <tr>\n",
       "      <th>30</th>\n",
       "      <td>North Indian, Chinese, Continental</td>\n",
       "      <td>0</td>\n",
       "      <td>950.0</td>\n",
       "    </tr>\n",
       "  </tbody>\n",
       "</table>\n",
       "</div>"
      ],
      "text/plain": [
       "                                            cuisines  Mean Rating    cost\n",
       "8                Chinese, North Indian, South Indian            0   250.0\n",
       "11               South Indian, North Indian, Chinese            0   300.0\n",
       "17                                      South Indian            0   150.0\n",
       "19  Fast Food, North Indian, Chinese, Mughlai, Rolls            0   400.0\n",
       "20                    North Indian, Chinese, Biryani            0   550.0\n",
       "28                         Continental, North Indian            0  1300.0\n",
       "30                North Indian, Chinese, Continental            0   950.0"
      ]
     },
     "execution_count": 39,
     "metadata": {},
     "output_type": "execute_result"
    }
   ],
   "source": [
    "recommend('Pai Vihar')"
   ]
  },
  {
   "cell_type": "code",
   "execution_count": 45,
   "metadata": {
    "id": "BnrbwIOVpzzy"
   },
   "outputs": [
    {
     "name": "stdout",
     "output_type": "stream",
     "text": [
      "TOP 10 RESTAURANTS LIKE Jalsa WITH SIMILAR REVIEWS: \n"
     ]
    },
    {
     "data": {
      "text/html": [
       "<div>\n",
       "<style scoped>\n",
       "    .dataframe tbody tr th:only-of-type {\n",
       "        vertical-align: middle;\n",
       "    }\n",
       "\n",
       "    .dataframe tbody tr th {\n",
       "        vertical-align: top;\n",
       "    }\n",
       "\n",
       "    .dataframe thead th {\n",
       "        text-align: right;\n",
       "    }\n",
       "</style>\n",
       "<table border=\"1\" class=\"dataframe\">\n",
       "  <thead>\n",
       "    <tr style=\"text-align: right;\">\n",
       "      <th></th>\n",
       "      <th>cuisines</th>\n",
       "      <th>Mean Rating</th>\n",
       "      <th>cost</th>\n",
       "    </tr>\n",
       "  </thead>\n",
       "  <tbody>\n",
       "    <tr>\n",
       "      <th>4</th>\n",
       "      <td>North Indian, Mughlai, Italian</td>\n",
       "      <td>0</td>\n",
       "      <td>1300.0</td>\n",
       "    </tr>\n",
       "    <tr>\n",
       "      <th>5</th>\n",
       "      <td>Cafe, Continental, Beverages</td>\n",
       "      <td>0</td>\n",
       "      <td>800.0</td>\n",
       "    </tr>\n",
       "    <tr>\n",
       "      <th>6</th>\n",
       "      <td>Cafe, Italian, Desserts</td>\n",
       "      <td>0</td>\n",
       "      <td>600.0</td>\n",
       "    </tr>\n",
       "    <tr>\n",
       "      <th>7</th>\n",
       "      <td>North Indian, Italian</td>\n",
       "      <td>0</td>\n",
       "      <td>900.0</td>\n",
       "    </tr>\n",
       "    <tr>\n",
       "      <th>8</th>\n",
       "      <td>Cafe, Italian, Burger, American, Steak</td>\n",
       "      <td>0</td>\n",
       "      <td>650.0</td>\n",
       "    </tr>\n",
       "    <tr>\n",
       "      <th>9</th>\n",
       "      <td>Modern Indian</td>\n",
       "      <td>0</td>\n",
       "      <td>1100.0</td>\n",
       "    </tr>\n",
       "    <tr>\n",
       "      <th>12</th>\n",
       "      <td>Continental, Italian, American</td>\n",
       "      <td>0</td>\n",
       "      <td>700.0</td>\n",
       "    </tr>\n",
       "    <tr>\n",
       "      <th>13</th>\n",
       "      <td>Cafe, Asian, Burger, Continental, Italian, Salad</td>\n",
       "      <td>0</td>\n",
       "      <td>600.0</td>\n",
       "    </tr>\n",
       "    <tr>\n",
       "      <th>14</th>\n",
       "      <td>Desserts</td>\n",
       "      <td>0</td>\n",
       "      <td>400.0</td>\n",
       "    </tr>\n",
       "    <tr>\n",
       "      <th>16</th>\n",
       "      <td>Bakery, Desserts</td>\n",
       "      <td>0</td>\n",
       "      <td>500.0</td>\n",
       "    </tr>\n",
       "  </tbody>\n",
       "</table>\n",
       "</div>"
      ],
      "text/plain": [
       "                                            cuisines  Mean Rating    cost\n",
       "4                     North Indian, Mughlai, Italian            0  1300.0\n",
       "5                       Cafe, Continental, Beverages            0   800.0\n",
       "6                            Cafe, Italian, Desserts            0   600.0\n",
       "7                              North Indian, Italian            0   900.0\n",
       "8             Cafe, Italian, Burger, American, Steak            0   650.0\n",
       "9                                      Modern Indian            0  1100.0\n",
       "12                    Continental, Italian, American            0   700.0\n",
       "13  Cafe, Asian, Burger, Continental, Italian, Salad            0   600.0\n",
       "14                                          Desserts            0   400.0\n",
       "16                                  Bakery, Desserts            0   500.0"
      ]
     },
     "execution_count": 45,
     "metadata": {},
     "output_type": "execute_result"
    }
   ],
   "source": [
    "recommend('Jalsa')"
   ]
  },
  {
   "cell_type": "code",
   "execution_count": 47,
   "metadata": {},
   "outputs": [
    {
     "name": "stdout",
     "output_type": "stream",
     "text": [
      "TOP 5 RESTAURANTS LIKE Black Deer WITH SIMILAR REVIEWS: \n"
     ]
    },
    {
     "data": {
      "text/html": [
       "<div>\n",
       "<style scoped>\n",
       "    .dataframe tbody tr th:only-of-type {\n",
       "        vertical-align: middle;\n",
       "    }\n",
       "\n",
       "    .dataframe tbody tr th {\n",
       "        vertical-align: top;\n",
       "    }\n",
       "\n",
       "    .dataframe thead th {\n",
       "        text-align: right;\n",
       "    }\n",
       "</style>\n",
       "<table border=\"1\" class=\"dataframe\">\n",
       "  <thead>\n",
       "    <tr style=\"text-align: right;\">\n",
       "      <th></th>\n",
       "      <th>cuisines</th>\n",
       "      <th>Mean Rating</th>\n",
       "      <th>cost</th>\n",
       "    </tr>\n",
       "  </thead>\n",
       "  <tbody>\n",
       "    <tr>\n",
       "      <th>0</th>\n",
       "      <td>Beverages, Desserts</td>\n",
       "      <td>0</td>\n",
       "      <td>350.0</td>\n",
       "    </tr>\n",
       "    <tr>\n",
       "      <th>14</th>\n",
       "      <td>Ice Cream, Cafe, Pizza, Burger, Desserts, Beve...</td>\n",
       "      <td>0</td>\n",
       "      <td>500.0</td>\n",
       "    </tr>\n",
       "    <tr>\n",
       "      <th>21</th>\n",
       "      <td>Desserts, Beverages</td>\n",
       "      <td>0</td>\n",
       "      <td>300.0</td>\n",
       "    </tr>\n",
       "    <tr>\n",
       "      <th>29</th>\n",
       "      <td>Cafe, Desserts</td>\n",
       "      <td>0</td>\n",
       "      <td>700.0</td>\n",
       "    </tr>\n",
       "    <tr>\n",
       "      <th>30</th>\n",
       "      <td>Desserts, Ice Cream</td>\n",
       "      <td>0</td>\n",
       "      <td>300.0</td>\n",
       "    </tr>\n",
       "  </tbody>\n",
       "</table>\n",
       "</div>"
      ],
      "text/plain": [
       "                                             cuisines  Mean Rating   cost\n",
       "0                                 Beverages, Desserts            0  350.0\n",
       "14  Ice Cream, Cafe, Pizza, Burger, Desserts, Beve...            0  500.0\n",
       "21                                Desserts, Beverages            0  300.0\n",
       "29                                     Cafe, Desserts            0  700.0\n",
       "30                                Desserts, Ice Cream            0  300.0"
      ]
     },
     "execution_count": 47,
     "metadata": {},
     "output_type": "execute_result"
    }
   ],
   "source": [
    "recommend('Black Deer')"
   ]
  },
  {
   "cell_type": "code",
   "execution_count": null,
   "metadata": {},
   "outputs": [],
   "source": []
  }
 ],
 "metadata": {
  "colab": {
   "provenance": []
  },
  "kernelspec": {
   "display_name": "Python 3 (ipykernel)",
   "language": "python",
   "name": "python3"
  },
  "language_info": {
   "codemirror_mode": {
    "name": "ipython",
    "version": 3
   },
   "file_extension": ".py",
   "mimetype": "text/x-python",
   "name": "python",
   "nbconvert_exporter": "python",
   "pygments_lexer": "ipython3",
   "version": "3.12.3"
  }
 },
 "nbformat": 4,
 "nbformat_minor": 4
}
